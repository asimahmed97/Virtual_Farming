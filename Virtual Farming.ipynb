{
 "cells": [
  {
   "cell_type": "markdown",
   "id": "7e567a4e",
   "metadata": {},
   "source": [
    "## Virtual Farming"
   ]
  },
  {
   "cell_type": "code",
   "execution_count": 1,
   "id": "2daed43d",
   "metadata": {},
   "outputs": [],
   "source": [
    "class Plant:\n",
    "    def __init__(self,name,harvest_yield):\n",
    "        self.name = name\n",
    "        self.harvest_yield = harvest_yield\n",
    "        self.growth_stages = [\"Land Preparation\",\"Seed Preparation\",\"Sowing\",\"Fertilization\",\"Irrigation\",\"Harvesting\"]\n",
    "        self.current_stage = self.growth_stages[0]\n",
    "        self.harvestable =False\n",
    "        \n",
    "    def grow(self):\n",
    "        current_index = self.growth_stages.index(self.current_stage)\n",
    "        \n",
    "        if current_index < len(self.growth_stages)-1:\n",
    "            self.current_stage = self.growth_stages[current_index + 1]\n",
    "            if self.current_stage == self.growth_stages[-1]:\n",
    "                self.harvestable = True\n",
    "                \n",
    "        elif self.current_stage == self.growth_stages[-1]:\n",
    "            print(f\"{self.name} is already fully grown\")\n",
    "            \n",
    "    def harvest(self):\n",
    "        if self.harvestable:\n",
    "            self.harvestable = False\n",
    "            return self.harvest_yield\n",
    "        else:\n",
    "            return None\n",
    "            \n",
    "        \n",
    "        "
   ]
  },
  {
   "cell_type": "code",
   "execution_count": 2,
   "id": "b03f32d4",
   "metadata": {},
   "outputs": [],
   "source": [
    "asim = Plant(\"asim\",10)"
   ]
  },
  {
   "cell_type": "code",
   "execution_count": null,
   "id": "17e3a6e8",
   "metadata": {},
   "outputs": [],
   "source": []
  },
  {
   "cell_type": "code",
   "execution_count": null,
   "id": "d7379fec",
   "metadata": {},
   "outputs": [],
   "source": []
  },
  {
   "cell_type": "code",
   "execution_count": 3,
   "id": "c685b203",
   "metadata": {},
   "outputs": [
    {
     "data": {
      "text/plain": [
       "'Land Preparation'"
      ]
     },
     "execution_count": 3,
     "metadata": {},
     "output_type": "execute_result"
    }
   ],
   "source": [
    "asim.current_stage"
   ]
  },
  {
   "cell_type": "code",
   "execution_count": 6,
   "id": "0fd6ed66",
   "metadata": {},
   "outputs": [],
   "source": [
    "asim.grow()"
   ]
  },
  {
   "cell_type": "code",
   "execution_count": 8,
   "id": "236a917d",
   "metadata": {},
   "outputs": [],
   "source": [
    "class Rice(Plant):\n",
    "    def __init__(self):\n",
    "        super().__init__(\"Rice\",10)\n",
    "        \n",
    "class Grain(Plant):\n",
    "    def __init__(self):\n",
    "        super().__init__(\"Grain\",10)\n",
    "        \n",
    "class Maize(Plant):\n",
    "    def __init__(self):\n",
    "        super().__init__(\"Maize\",10)\n",
    "    "
   ]
  },
  {
   "cell_type": "code",
   "execution_count": 9,
   "id": "a5583b85",
   "metadata": {},
   "outputs": [],
   "source": [
    "import random\n",
    "\n",
    "seeds = [\"rice\",\"gairn\", \"maize\"]"
   ]
  },
  {
   "cell_type": "code",
   "execution_count": 25,
   "id": "5fb3bb82",
   "metadata": {},
   "outputs": [],
   "source": [
    "def selected_seed(items):\n",
    "    if type(items) == dict:\n",
    "        \n",
    "        item_list = list(items.keys())\n",
    "    elif type(items) == list:\n",
    "        item_list = items\n",
    "\n",
    "    for i in range(len(item_list)):\n",
    "        item_name = item_list[i]\n",
    "        print(f\"{i+1}. {item_name}\")\n",
    "    print()\n",
    "    while True:\n",
    "        user_input = input(\"Select an item \")\n",
    "        try:\n",
    "            user_input = int(user_input)\n",
    "            if 0<user_input<= len(item_list):\n",
    "                return item_list[user_input -1]\n",
    "            else:\n",
    "                print(\"Invalid Input\")\n",
    "        except:\n",
    "            print(\"Invalid Input\")\n",
    "            \n",
    "            "
   ]
  },
  {
   "cell_type": "code",
   "execution_count": 41,
   "id": "cbd8465d",
   "metadata": {},
   "outputs": [],
   "source": [
    "class Gardener:\n",
    "    \"\"\"Represent a gardener who can plant and harvest plants\"\"\"\n",
    "    \n",
    "    seeds_dict = {\"rice\":Rice, \"grain\":Grain, \"maize\":Maize}\n",
    "    \n",
    "    def __init__(self,name):\n",
    "        self.name = name\n",
    "        self.inventory = {}\n",
    "        self.planted_plants = []\n",
    "        \n",
    "    def get_seed(self):\n",
    "        seed = random.choice(seeds)\n",
    "        \n",
    "        if seed not in self.inventory:\n",
    "            self.inventory[seed] =1\n",
    "        else:\n",
    "            self.inventory[seed] += 1\n",
    "        \n",
    "        print(f\"{self.name} has found the {seed} seed!\")\n",
    "        \n",
    "    def plant(self):\n",
    "        selected_plant = selected_seed(self.inventory)\n",
    "        \n",
    "        if selected_plant in self.inventory and self.inventory[selected_plant] > 0:\n",
    "            self.inventory[selected_plant] -= 1\n",
    "            if self.inventory[selected_plant] <=0:\n",
    "                del self.inventory[selected_plant]\n",
    "            new_plant = self.seeds_dict[selected_plant]()\n",
    "            \n",
    "            self.planted_plants.append(new_plant)\n",
    "            print(f\"{self.name} has planted a {selected_plant} plant!\")\n",
    "        else:\n",
    "            print(f\"{self.name} does not have any {selected_plant} plant!\")\n",
    "            \n",
    "    def tend(self):\n",
    "        for plant in self.planted_plants:\n",
    "            if not plant.harvestable:\n",
    "                plant.grow()\n",
    "                print(f\"{plant.name} is now on a {plant.current_stage} stage!\")\n",
    "            else:\n",
    "                print(f\"{plant.name} is ready to be harvested\")\n",
    "            \n",
    "    def harvest(self):\n",
    "        selected_plant = selected_item(self.planted_plants)\n",
    "        if selected_plant.harvestable ==True:\n",
    "            if selected_plant.name not in self.inventory:\n",
    "                self.inventory[selected_plant.name] = selected_plant.harvest()\n",
    "            else:\n",
    "                self.inventory[selected_plant.name] += selected_plant.harvest()\n",
    "                print(f\"You have harvested {selected_plant.name}!\")\n",
    "                self.selected_plant.remove(selected_plant)\n",
    "        else:\n",
    "            print(f\"You can't harvest {selected_plant.name}!\")\n",
    "        "
   ]
  },
  {
   "cell_type": "code",
   "execution_count": null,
   "id": "8f0f9c0a",
   "metadata": {},
   "outputs": [
    {
     "name": "stdout",
     "output_type": "stream",
     "text": [
      "Welcome to the Virtual Garden!\n",
      "What is the gardener name! asim\n",
      "Welcome asim!\n",
      "Type 'help' for valid command.\n",
      "What do you want to do? help\n",
      "***Available Commands***\n",
      "help\n",
      "quit\n",
      "seed\n",
      "plant\n",
      "tend\n",
      "harvest\n",
      "What do you want to do? seed\n",
      "asim has found the maize seed!\n",
      "What do you want to do? plant\n",
      "1. maize\n",
      "\n",
      "Select an item tend\n",
      "Invalid Input\n",
      "Select an item 1\n",
      "asim has planted a maize plant!\n",
      "What do you want to do? tend\n",
      "Maize is now on a Seed Preparation stage!\n",
      "What do you want to do? tend\n",
      "Maize is now on a Sowing stage!\n",
      "What do you want to do? tend\n",
      "Maize is now on a Fertilization stage!\n"
     ]
    }
   ],
   "source": [
    "valid_commands = [\"help\", \"quit\", \"seed\",\"plant\",\"tend\", \"harvest\" ]\n",
    "\n",
    "print(\"Welcome to the Virtual Garden!\")\n",
    "\n",
    "gardener_name = input(\"What is the gardener name! \")\n",
    "\n",
    "print(f\"Welcome {gardener_name}!\\nType 'help' for valid command.\")\n",
    "\n",
    "gardener = Gardener(gardener_name)\n",
    "\n",
    "while True:\n",
    "    gardener_action = input(\"What do you want to do? \")\n",
    "    gardener_action = gardener_action.lower()\n",
    "    if gardener_action in valid_commands:\n",
    "        if gardener_action == \"help\":\n",
    "            print(\"***Available Commands***\")\n",
    "            for command in valid_commands:\n",
    "                print(command)\n",
    "        elif gardener_action == \"seed\":\n",
    "            gardener.get_seed()\n",
    "        elif gardener_action == \"plant\":\n",
    "            gardener.plant()\n",
    "        elif gardener_action == \"tend\":\n",
    "            gardener.tend()\n",
    "        elif gardener_action == \"harvest\":\n",
    "            gardener.harvest()\n",
    "        elif gardener_action == \"quit\":\n",
    "            print(\"Thank you for your interest. Come again. Good Bye!\")\n",
    "            break\n",
    "    else:\n",
    "        print(\"Invalid Command\") "
   ]
  },
  {
   "cell_type": "code",
   "execution_count": null,
   "id": "907d8cff",
   "metadata": {},
   "outputs": [],
   "source": []
  }
 ],
 "metadata": {
  "kernelspec": {
   "display_name": "Python 3 (ipykernel)",
   "language": "python",
   "name": "python3"
  },
  "language_info": {
   "codemirror_mode": {
    "name": "ipython",
    "version": 3
   },
   "file_extension": ".py",
   "mimetype": "text/x-python",
   "name": "python",
   "nbconvert_exporter": "python",
   "pygments_lexer": "ipython3",
   "version": "3.9.12"
  }
 },
 "nbformat": 4,
 "nbformat_minor": 5
}
